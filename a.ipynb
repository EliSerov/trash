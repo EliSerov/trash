{
 "cells": [
  {
   "cell_type": "code",
   "execution_count": 1,
   "id": "9a42d0b0-1cba-4e1b-a637-4b2963b8acda",
   "metadata": {},
   "outputs": [
    {
     "data": {
      "text/plain": [
       "1"
      ]
     },
     "execution_count": 1,
     "metadata": {},
     "output_type": "execute_result"
    }
   ],
   "source": [
    "0+1"
   ]
  },
  {
   "cell_type": "code",
   "execution_count": 3,
   "id": "95c43a38-2e0a-4ce5-9a15-ee38373976cf",
   "metadata": {},
   "outputs": [
    {
     "data": {
      "text/plain": [
       "9"
      ]
     },
     "execution_count": 3,
     "metadata": {},
     "output_type": "execute_result"
    }
   ],
   "source": [
    "12-3"
   ]
  },
  {
   "cell_type": "code",
   "execution_count": null,
   "id": "6b564ccb-57ff-4b5b-b9e0-05353ea664de",
   "metadata": {},
   "outputs": [],
   "source": []
  },
  {
   "cell_type": "code",
   "execution_count": null,
   "id": "eceb8a13-1ea8-49dc-890d-03ff18cfc501",
   "metadata": {},
   "outputs": [],
   "source": []
  },
  {
   "cell_type": "code",
   "execution_count": null,
   "id": "b6493600-6a57-42c1-b1cf-1a3340c7e5ab",
   "metadata": {},
   "outputs": [],
   "source": []
  },
  {
   "cell_type": "code",
   "execution_count": null,
   "id": "a3d301f0-2523-41e3-9ea2-d13c75a98b2c",
   "metadata": {},
   "outputs": [],
   "source": []
  },
  {
   "cell_type": "code",
   "execution_count": null,
   "id": "e09cb8a4-924d-4ecc-ba58-b12c80c90914",
   "metadata": {},
   "outputs": [],
   "source": []
  }
 ],
 "metadata": {
  "kernelspec": {
   "display_name": "Python 3 (ipykernel)",
   "language": "python",
   "name": "python3"
  },
  "language_info": {
   "codemirror_mode": {
    "name": "ipython",
    "version": 3
   },
   "file_extension": ".py",
   "mimetype": "text/x-python",
   "name": "python",
   "nbconvert_exporter": "python",
   "pygments_lexer": "ipython3",
   "version": "3.10.12"
  }
 },
 "nbformat": 4,
 "nbformat_minor": 5
}
